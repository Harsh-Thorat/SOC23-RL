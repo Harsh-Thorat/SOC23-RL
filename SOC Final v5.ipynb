{
 "cells": [
  {
   "cell_type": "code",
   "execution_count": 1,
   "id": "d14d1676",
   "metadata": {},
   "outputs": [
    {
     "name": "stdout",
     "output_type": "stream",
     "text": [
      "Python 3.7.16\n"
     ]
    }
   ],
   "source": [
    "!python --version\n"
   ]
  },
  {
   "cell_type": "code",
   "execution_count": 2,
   "id": "387561c0",
   "metadata": {},
   "outputs": [
    {
     "name": "stdout",
     "output_type": "stream",
     "text": [
      "Requirement already satisfied: gym-retro in c:\\users\\dhant\\miniconda3\\envs\\rlenv\\lib\\site-packages (0.8.0)\n",
      "Requirement already satisfied: gym in c:\\users\\dhant\\miniconda3\\envs\\rlenv\\lib\\site-packages (from gym-retro) (0.26.2)\n",
      "Requirement already satisfied: pyglet==1.*,>=1.3.2 in c:\\users\\dhant\\miniconda3\\envs\\rlenv\\lib\\site-packages (from gym-retro) (1.5.27)\n",
      "Requirement already satisfied: numpy>=1.18.0 in c:\\users\\dhant\\miniconda3\\envs\\rlenv\\lib\\site-packages (from gym->gym-retro) (1.21.6)\n",
      "Requirement already satisfied: gym-notices>=0.0.4 in c:\\users\\dhant\\miniconda3\\envs\\rlenv\\lib\\site-packages (from gym->gym-retro) (0.0.8)\n",
      "Requirement already satisfied: cloudpickle>=1.2.0 in c:\\users\\dhant\\miniconda3\\envs\\rlenv\\lib\\site-packages (from gym->gym-retro) (2.2.1)\n",
      "Requirement already satisfied: importlib-metadata>=4.8.0 in c:\\users\\dhant\\miniconda3\\envs\\rlenv\\lib\\site-packages (from gym->gym-retro) (6.7.0)\n",
      "Requirement already satisfied: zipp>=0.5 in c:\\users\\dhant\\miniconda3\\envs\\rlenv\\lib\\site-packages (from importlib-metadata>=4.8.0->gym->gym-retro) (3.15.0)\n",
      "Requirement already satisfied: typing-extensions>=3.6.4 in c:\\users\\dhant\\miniconda3\\envs\\rlenv\\lib\\site-packages (from importlib-metadata>=4.8.0->gym->gym-retro) (4.7.1)\n"
     ]
    }
   ],
   "source": [
    "!pip install gym-retro"
   ]
  },
  {
   "cell_type": "code",
   "execution_count": null,
   "id": "81f5fa68",
   "metadata": {},
   "outputs": [],
   "source": [
    "import gym\n",
    "import retro\n",
    "import numpy"
   ]
  },
  {
   "cell_type": "code",
   "execution_count": null,
   "id": "59cf8bf2",
   "metadata": {},
   "outputs": [],
   "source": [
    "#list of games in retro\n",
    "retro.data.list_games()"
   ]
  },
  {
   "cell_type": "code",
   "execution_count": null,
   "id": "aefc91ef",
   "metadata": {},
   "outputs": [],
   "source": [
    "env = retro.make(game='StreetFighterIISpecialChampionEdition-Genesis')"
   ]
  },
  {
   "cell_type": "code",
   "execution_count": null,
   "id": "9eeacbc6",
   "metadata": {},
   "outputs": [],
   "source": [
    "env.close() #to avoid multiple emulator instances "
   ]
  },
  {
   "cell_type": "code",
   "execution_count": null,
   "id": "1b3b8e96",
   "metadata": {},
   "outputs": [],
   "source": [
    "env.action_space.sample()"
   ]
  },
  {
   "cell_type": "code",
   "execution_count": null,
   "id": "ddc4d002",
   "metadata": {},
   "outputs": [],
   "source": [
    "#testing game random starting state\n",
    "obs = env.reset()\n",
    "done = False \n",
    "for game in range(1):\n",
    "    while not done:\n",
    "        if done:\n",
    "            obs = env.reset()\n",
    "        env.render()\n",
    "        obs, reward, done, info = env.step(env.action_space.sample())\n",
    "        print(reward)"
   ]
  },
  {
   "cell_type": "code",
   "execution_count": null,
   "id": "1e1b2b0a",
   "metadata": {},
   "outputs": [],
   "source": [
    "env.close()"
   ]
  },
  {
   "cell_type": "code",
   "execution_count": null,
   "id": "15a8c923",
   "metadata": {},
   "outputs": [],
   "source": [
    "from gym import Env\n"
   ]
  },
  {
   "cell_type": "code",
   "execution_count": null,
   "id": "2f2f8f84",
   "metadata": {},
   "outputs": [],
   "source": [
    "#reward function\n",
    "class StreetFighter(Env):\n",
    "    def __init__(self):\n",
    "        super().__init__()\n",
    "        self.game= retro.make(game='StreetFighterIISpecialChampionEdition-Genesis', use_restricted_actions=retro.Actions.FILTERED)\n",
    "    def reset(self):\n",
    "        obs = self.game.reset()\n",
    "        self.previous_frame = obs\n",
    "        \n",
    "        self.score = 0 #score delta\n",
    "        return obs\n",
    "\n",
    "    def step (self, action):\n",
    "        obs, reward, done, info = self.game.step(action)\n",
    "        reward = info['score'] - self.score\n",
    "        self.score = info['score']\n",
    "        \n",
    "        return reward, done, info\n",
    "    \n",
    "    def render(self, *arg, *kwarg):\n",
    "        self.game.render()\n",
    "    \n",
    "    def close(self):\n",
    "        self.game.close"
   ]
  },
  {
   "cell_type": "code",
   "execution_count": null,
   "id": "981eb72f",
   "metadata": {},
   "outputs": [],
   "source": [
    "env = StreetFighter() "
   ]
  },
  {
   "cell_type": "code",
   "execution_count": null,
   "id": "c49113d0",
   "metadata": {},
   "outputs": [],
   "source": [
    "#install pytorch\n",
    "!pip install torch torchvision torchaudio --index-url https://download.pytorch.org/whl/cu117\n",
    "#install Stable-baseline3\n",
    "!pip install stable-baselines3[extra] optuna"
   ]
  },
  {
   "cell_type": "code",
   "execution_count": null,
   "id": "5f63bd6d",
   "metadata": {},
   "outputs": [],
   "source": [
    "import optuna #optimization frame\n",
    "import os\n",
    "from stable_baselines3 import PPO #PPO algorithm for RL\n",
    "from stable_baselines3.common.evaluation import evaluate_policy\n",
    "from stable_baselines3.common.monitor import Monitor\n",
    "from stable_baselines3.common.vec_env import DummyVecEnv, VecFrameStack\n"
   ]
  },
  {
   "cell_type": "code",
   "execution_count": null,
   "id": "369dad51",
   "metadata": {},
   "outputs": [],
   "source": [
    "#Saving a model after each training\n",
    "LOG_DIR = './logs/'\n",
    "OPT_DIR = './opt/'"
   ]
  },
  {
   "cell_type": "code",
   "execution_count": null,
   "id": "6d8fd850",
   "metadata": {},
   "outputs": [],
   "source": [
    "#using optuna for optimization\n",
    "def optimize_ppo(trial): \n",
    "    return {\n",
    "        'n_steps':trial.suggest_int('n_steps', 2048, 8192), #no. of eps within training PPO\n",
    "        'gamma':trial.suggest_loguniform('gamma', 0.8, 0.9999), #reducing future rewards from PPO models\n",
    "        'learning_rate':trial.suggest_loguniform('learning_rate', 1e-5, 1e-4), \n",
    "        'clip_range':trial.suggest_uniform('clip_range', 0.1, 0.4),\n",
    "        'gae_lambda':trial.suggest_uniform('gae_lambda', 0.8, 0.99)\n",
    "    }"
   ]
  },
  {
   "cell_type": "code",
   "execution_count": null,
   "id": "7def8a21",
   "metadata": {},
   "outputs": [],
   "source": [
    "#training loop and returning mean reward\n",
    " \n",
    "def optimize_agent(trial):\n",
    "    try:\n",
    "        model_param = optimize_ppo(trial) \n",
    "\n",
    "        # Creating environment \n",
    "        env = StreetFighter()\n",
    "        env = Monitor(env, LOG_DIR)\n",
    "        env = DummyVecEnv([lambda: env])\n",
    "        env = VecFrameStack(env, 4, channels_order='last')\n",
    "\n",
    "        \n",
    "        model = PPO('CnnPolicy', env, tensorboard_log=LOG_DIR, verbose=0, **model_param)\n",
    "        model.learn(total_timesteps=3000)\n",
    "     \n",
    "\n",
    "        # Evaluating model on 5 different games\n",
    "        mean_reward, _ = evaluate_policy(model, env, n_eval_episodes=5)\n",
    "        env.close()\n",
    "\n",
    "        SAVE_PATH = os.path.join(OPT_DIR, 'trial_{}_best_model'.format(trial.number))\n",
    "        model.save(SAVE_PATH)\n",
    "\n",
    "        return mean_reward\n",
    "\n",
    "    except Exception as e:\n",
    "        return -1000"
   ]
  },
  {
   "cell_type": "code",
   "execution_count": null,
   "id": "6098a4a5",
   "metadata": {},
   "outputs": [],
   "source": [
    "# Creating experiment \n",
    "study = optuna.create_study(direction='maximize')\n",
    "study.optimize(optimize_agent, n_trials=20, n_jobs=1)\n"
   ]
  },
  {
   "cell_type": "code",
   "execution_count": null,
   "id": "0e5640d5",
   "metadata": {},
   "outputs": [],
   "source": [
    "study.best_param"
   ]
  },
  {
   "cell_type": "code",
   "execution_count": null,
   "id": "c239f057",
   "metadata": {},
   "outputs": [],
   "source": [
    "study.best_trial\n",
    "model = PPO.load(os.path.join(OPT_DIR, 'trial_5_best_model.zip'))#best trial   "
   ]
  },
  {
   "cell_type": "code",
   "execution_count": null,
   "id": "ce86ef2b",
   "metadata": {},
   "outputs": [],
   "source": [
    "#base callback for autosaving #(Stackoverflow)\n",
    "from stable_baselines3.common.callbacks import BaseCallback\n",
    "\n",
    "\n",
    "class TrainAndLoggingCallback(BaseCallback):\n",
    "\n",
    "    def __init__(self, check_freq, save_path, verbose=1):\n",
    "        super(TrainAndLoggingCallback, self).__init__(verbose)\n",
    "        self.check_freq = check_freq\n",
    "        self.save_path = save_path\n",
    "\n",
    "    def _init_callback(self):\n",
    "        if self.save_path is not None:\n",
    "            os.makedirs(self.save_path, exist_ok=True)\n",
    "\n",
    "    def _on_step(self):\n",
    "        if self.n_calls % self.check_freq == 0:\n",
    "            model_path = os.path.join(self.save_path, 'best_model_{}'.format(self.n_calls))\n",
    "            self.model.save(model_path)\n",
    "\n",
    "        return True"
   ]
  },
  {
   "cell_type": "code",
   "execution_count": null,
   "id": "de048fa3",
   "metadata": {},
   "outputs": [],
   "source": [
    "CHECKPOINT_DIR = './train/' #saving "
   ]
  },
  {
   "cell_type": "code",
   "execution_count": null,
   "id": "cb5e6476",
   "metadata": {},
   "outputs": [],
   "source": [
    "#saving model after every 8000 steps\n",
    "callback = TrainAndLoggingCallback(check_freq=8000, save_path=CHECKPOINT_DIR)"
   ]
  },
  {
   "cell_type": "code",
   "execution_count": null,
   "id": "f01fbc25",
   "metadata": {},
   "outputs": [],
   "source": [
    "#Training the model\n",
    "env = StreetFighter()\n",
    "env = Monitor(env, LOG_DIR)\n",
    "env = DummyVecEnv([lambda: env])\n",
    "env = VecFrameStack(env, 4, channels_order='last')"
   ]
  },
  {
   "cell_type": "code",
   "execution_count": null,
   "id": "7617c671",
   "metadata": {},
   "outputs": [],
   "source": [
    "#best parameters from hyperparameter tuning using optuna\n",
    "model_param = study.best_param\n",
    "model_param['n_steps'] = 7360  # set n_steps to a factor of 64\n",
    "\n"
   ]
  },
  {
   "cell_type": "code",
   "execution_count": null,
   "id": "45fc12a5",
   "metadata": {},
   "outputs": [],
   "source": [
    "model_param"
   ]
  },
  {
   "cell_type": "code",
   "execution_count": null,
   "id": "7b9bd744",
   "metadata": {},
   "outputs": [],
   "source": [
    "#new PPO algo\n",
    "model = PPO('CnnPolicy', env, tensorboard_log=LOG_DIR, verbose=1, **model_param)"
   ]
  },
  {
   "cell_type": "code",
   "execution_count": null,
   "id": "4530e276",
   "metadata": {},
   "outputs": [],
   "source": [
    "model.load(os.path.join(OPT_DIR, 'trial_5_best_model.zip'))"
   ]
  },
  {
   "cell_type": "code",
   "execution_count": null,
   "id": "40d8ce4c",
   "metadata": {},
   "outputs": [],
   "source": [
    "\n",
    "model.learn(total_timesteps=20000, callback=callback)\n",
    " "
   ]
  }
 ],
 "metadata": {
  "kernelspec": {
   "display_name": "Python 3 (ipykernel)",
   "language": "python",
   "name": "python3"
  },
  "language_info": {
   "codemirror_mode": {
    "name": "ipython",
    "version": 3
   },
   "file_extension": ".py",
   "mimetype": "text/x-python",
   "name": "python",
   "nbconvert_exporter": "python",
   "pygments_lexer": "ipython3",
   "version": "3.9.12"
  }
 },
 "nbformat": 4,
 "nbformat_minor": 5
}
