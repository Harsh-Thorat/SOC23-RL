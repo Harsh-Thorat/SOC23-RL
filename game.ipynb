{
 "cells": [
  {
   "cell_type": "code",
   "execution_count": 6,
   "id": "7b46f7da",
   "metadata": {},
   "outputs": [],
   "source": [
    "import numpy as np\n",
    "import random"
   ]
  },
  {
   "cell_type": "code",
   "execution_count": 7,
   "id": "42d1c2ab",
   "metadata": {},
   "outputs": [],
   "source": [
    "Capital = 10"
   ]
  },
  {
   "cell_type": "code",
   "execution_count": 8,
   "id": "1121f9f4",
   "metadata": {},
   "outputs": [],
   "source": [
    "def gameA(): \n",
    "    toss = random.random() \n",
    "    #random.random() returns a uniformly distributed pseudo random floating point number in the range [0,1) (Stack overflow)\n",
    "    if toss <= 0.505:\n",
    "        return -1\n",
    "    else:\n",
    "        return 1\n",
    "        "
   ]
  },
  {
   "cell_type": "code",
   "execution_count": 9,
   "id": "ad2739f6",
   "metadata": {},
   "outputs": [],
   "source": [
    "def gameB():\n",
    "    if Capital%3 == 0:\n",
    "        toss = random.random()\n",
    "        if toss <= 0.9:\n",
    "            return -1\n",
    "        else:\n",
    "            return 1\n",
    "    elif Capital%3 != 0:\n",
    "        toss = random.random()\n",
    "        if toss <= 0.75:\n",
    "            return 1\n",
    "        else:\n",
    "            return -1\n",
    "            "
   ]
  },
  {
   "cell_type": "code",
   "execution_count": null,
   "id": "393cb83b",
   "metadata": {},
   "outputs": [
    {
     "name": "stdout",
     "output_type": "stream",
     "text": [
      " Current Capital:  10\n",
      "Enter A for Game A and B for Game B: a\n",
      " Current Capital:  9\n",
      "Enter A for Game A and B for Game B: b\n",
      " Current Capital:  8\n",
      "Enter A for Game A and B for Game B: b\n",
      " Current Capital:  9\n",
      "Enter A for Game A and B for Game B: a\n",
      " Current Capital:  10\n",
      "Enter A for Game A and B for Game B: a\n",
      " Current Capital:  11\n",
      "Enter A for Game A and B for Game B: b\n",
      " Current Capital:  12\n",
      "Enter A for Game A and B for Game B: b\n",
      " Current Capital:  13\n",
      "Enter A for Game A and B for Game B: a\n",
      " Current Capital:  12\n"
     ]
    }
   ],
   "source": [
    "if __name__ == \"__main__\":\n",
    "    for i in range(10):\n",
    "        print(\" Current Capital: \", Capital)\n",
    "        choice = input(\"Enter A for Game A and B for Game B: \")\n",
    "        if choice == 'A' or choice == 'a':\n",
    "            Capital += gameA()\n",
    "        elif choice == 'B' or choice == 'b':\n",
    "            Capital += gameB()\n",
    "        else:\n",
    "            print(\"Invalid choice\")\n",
    "            break\n",
    "    print(\"Final Capital: \", Capital)"
   ]
  },
  {
   "cell_type": "code",
   "execution_count": null,
   "id": "42eccfd8",
   "metadata": {},
   "outputs": [],
   "source": []
  },
  {
   "cell_type": "code",
   "execution_count": null,
   "id": "ef94183a",
   "metadata": {},
   "outputs": [],
   "source": []
  },
  {
   "cell_type": "code",
   "execution_count": null,
   "id": "6eeb040a",
   "metadata": {},
   "outputs": [],
   "source": []
  },
  {
   "cell_type": "code",
   "execution_count": null,
   "id": "5aeb6538",
   "metadata": {},
   "outputs": [],
   "source": []
  }
 ],
 "metadata": {
  "kernelspec": {
   "display_name": "Python 3 (ipykernel)",
   "language": "python",
   "name": "python3"
  },
  "language_info": {
   "codemirror_mode": {
    "name": "ipython",
    "version": 3
   },
   "file_extension": ".py",
   "mimetype": "text/x-python",
   "name": "python",
   "nbconvert_exporter": "python",
   "pygments_lexer": "ipython3",
   "version": "3.9.12"
  }
 },
 "nbformat": 4,
 "nbformat_minor": 5
}
